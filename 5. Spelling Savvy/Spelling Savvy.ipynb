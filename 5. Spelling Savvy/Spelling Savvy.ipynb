{
 "cells": [
  {
   "cell_type": "code",
   "execution_count": 1,
   "id": "1f585218",
   "metadata": {},
   "outputs": [],
   "source": [
    "import re\n",
    "from tqdm import tqdm\n",
    "import pandas as pd"
   ]
  },
  {
   "cell_type": "code",
   "execution_count": 2,
   "id": "de72f8f5",
   "metadata": {},
   "outputs": [
    {
     "data": {
      "text/plain": [
       "1115585"
      ]
     },
     "execution_count": 2,
     "metadata": {},
     "output_type": "execute_result"
    }
   ],
   "source": [
    "with open('big.txt', 'r') as fd:\n",
    "    lines = fd.readlines()\n",
    "    words = []\n",
    "    for line in lines:\n",
    "        words += re.findall('\\w+', line)\n",
    "\n",
    "len(words)"
   ]
  },
  {
   "cell_type": "code",
   "execution_count": 3,
   "id": "f62af5b8",
   "metadata": {},
   "outputs": [
    {
     "data": {
      "text/plain": [
       "1164968"
      ]
     },
     "execution_count": 3,
     "metadata": {},
     "output_type": "execute_result"
    }
   ],
   "source": [
    "with open('big.txt', 'r') as fd:\n",
    "    lines = fd.readlines()\n",
    "    words = []\n",
    "    for line in lines:\n",
    "        words += line.split(' ')\n",
    "\n",
    "len(words)"
   ]
  },
  {
   "cell_type": "code",
   "execution_count": 4,
   "id": "90377d2e",
   "metadata": {},
   "outputs": [
    {
     "name": "stdout",
     "output_type": "stream",
     "text": [
      "There are 49383 words not starting from a character.\n"
     ]
    }
   ],
   "source": [
    "print('There are', 1164968-1115585 , 'words not starting from a character.')"
   ]
  },
  {
   "cell_type": "code",
   "execution_count": null,
   "id": "5659ee35",
   "metadata": {},
   "outputs": [],
   "source": []
  },
  {
   "cell_type": "markdown",
   "id": "15af6f9e",
   "metadata": {},
   "source": [
    "## 1. <u>Finding unique words </u>"
   ]
  },
  {
   "cell_type": "code",
   "execution_count": 5,
   "id": "28920733",
   "metadata": {},
   "outputs": [
    {
     "name": "stdout",
     "output_type": "stream",
     "text": [
      "1115585\n",
      "32198\n"
     ]
    }
   ],
   "source": [
    "with open('big.txt', 'r') as fd:\n",
    "    lines = fd.readlines()\n",
    "    words = []\n",
    "    for line in lines:\n",
    "        words += re.findall('\\w+', line.lower())\n",
    "\n",
    "print(len(words))\n",
    "vocab = list(set(words))\n",
    "print(len(vocab))"
   ]
  },
  {
   "cell_type": "code",
   "execution_count": 6,
   "id": "3f0dbd7a",
   "metadata": {},
   "outputs": [
    {
     "name": "stdout",
     "output_type": "stream",
     "text": [
      "1115585\n",
      "32198\n"
     ]
    }
   ],
   "source": [
    "with open('big.txt','r') as fd:\n",
    "    lines = fd.readlines()\n",
    "    words = []\n",
    "    for line in lines:\n",
    "        words += re.findall('\\w+',line.lower())\n",
    "        \n",
    "print(len(words))\n",
    "vocab = list(set(words))\n",
    "print(len(vocab))"
   ]
  },
  {
   "cell_type": "markdown",
   "id": "2ea795b7",
   "metadata": {},
   "source": [
    "## 2. <u>Finding the probability distribution</u>"
   ]
  },
  {
   "cell_type": "code",
   "execution_count": 7,
   "id": "609604b9",
   "metadata": {},
   "outputs": [
    {
     "data": {
      "text/plain": [
       "0.07154004401278254"
      ]
     },
     "execution_count": 7,
     "metadata": {},
     "output_type": "execute_result"
    }
   ],
   "source": [
    "words.count('the') / len(words)"
   ]
  },
  {
   "cell_type": "code",
   "execution_count": 8,
   "id": "187405ea",
   "metadata": {},
   "outputs": [
    {
     "name": "stderr",
     "output_type": "stream",
     "text": [
      "100%|████████████████████████████████████████████████████████████████████████████| 32198/32198 [11:07<00:00, 48.23it/s]\n"
     ]
    }
   ],
   "source": [
    "word_probability = {}\n",
    "\n",
    "for word in tqdm(vocab):\n",
    "    word_probability[word] = float(words.count(word)/len(words))\n"
   ]
  },
  {
   "cell_type": "markdown",
   "id": "fdbcf3f1",
   "metadata": {},
   "source": [
    " ## 3. <u>Text PreProcessing</u>"
   ]
  },
  {
   "cell_type": "markdown",
   "id": "a7472691",
   "metadata": {},
   "source": [
    "### Splitting"
   ]
  },
  {
   "cell_type": "code",
   "execution_count": 9,
   "id": "588885a4",
   "metadata": {},
   "outputs": [
    {
     "data": {
      "text/plain": [
       "[('', 'harsh'),\n",
       " ('h', 'arsh'),\n",
       " ('ha', 'rsh'),\n",
       " ('har', 'sh'),\n",
       " ('hars', 'h'),\n",
       " ('harsh', '')]"
      ]
     },
     "execution_count": 9,
     "metadata": {},
     "output_type": "execute_result"
    }
   ],
   "source": [
    "def split(word):  \n",
    "    parts = []\n",
    "    for i in range(len(word) + 1):\n",
    "        parts += [(word[ : i], word[i : ])]\n",
    "    return parts\n",
    "\n",
    "split('harsh')"
   ]
  },
  {
   "cell_type": "markdown",
   "id": "2f7d6c8a",
   "metadata": {},
   "source": [
    "### 3.1 Delete"
   ]
  },
  {
   "cell_type": "markdown",
   "id": "f8e0ba82",
   "metadata": {},
   "source": [
    "loave -> love"
   ]
  },
  {
   "cell_type": "code",
   "execution_count": 10,
   "id": "999dda9b",
   "metadata": {},
   "outputs": [
    {
     "data": {
      "text/plain": [
       "['aarsh', 'harsh', 'harsh', 'haash', 'haarh', 'haars', 'haarsh']"
      ]
     },
     "execution_count": 10,
     "metadata": {},
     "output_type": "execute_result"
    }
   ],
   "source": [
    "def delete(word):\n",
    "    output = []\n",
    "    for l, r in split(word):\n",
    "        output.append(l + r[1:])\n",
    "    return output\n",
    "\n",
    "delete('haarsh')"
   ]
  },
  {
   "cell_type": "markdown",
   "id": "8e9fd906",
   "metadata": {},
   "source": [
    "### 3.2 Swap"
   ]
  },
  {
   "cell_type": "markdown",
   "id": "7efb87b6",
   "metadata": {},
   "source": [
    "'lvoe' -> 'love'"
   ]
  },
  {
   "cell_type": "code",
   "execution_count": 11,
   "id": "46e430b2",
   "metadata": {},
   "outputs": [
    {
     "data": {
      "text/plain": [
       "['rhash', 'harsh', 'hrsah', 'hrahs']"
      ]
     },
     "execution_count": 11,
     "metadata": {},
     "output_type": "execute_result"
    }
   ],
   "source": [
    "def swap(word):\n",
    "    output = []\n",
    "    for l,r in split(word):\n",
    "        if len(r) > 1:\n",
    "            output.append(l + r[1] + r[0] + r[2:])\n",
    "    return output\n",
    "\n",
    "swap('hrash')"
   ]
  },
  {
   "cell_type": "markdown",
   "id": "efebdccf",
   "metadata": {},
   "source": [
    "### 3.3 Replace"
   ]
  },
  {
   "cell_type": "code",
   "execution_count": 12,
   "id": "29e9cbdf",
   "metadata": {},
   "outputs": [
    {
     "data": {
      "text/plain": [
       "130"
      ]
     },
     "execution_count": 12,
     "metadata": {},
     "output_type": "execute_result"
    }
   ],
   "source": [
    "def replace(word):\n",
    "    \n",
    "    characters = 'abcdefghijklmnopqrstuvwxyz'\n",
    "    output = []    \n",
    "\n",
    "    for l,r in split(word):\n",
    "        for char in characters:\n",
    "            output.append(l + char +  r[1:])\n",
    "    return output\n",
    "\n",
    "len(replace('lave'))"
   ]
  },
  {
   "cell_type": "markdown",
   "id": "67b05d8c",
   "metadata": {},
   "source": [
    "### 3.4 Insert"
   ]
  },
  {
   "cell_type": "code",
   "execution_count": 13,
   "id": "3ee08ec5",
   "metadata": {},
   "outputs": [
    {
     "data": {
      "text/plain": [
       "104"
      ]
     },
     "execution_count": 13,
     "metadata": {},
     "output_type": "execute_result"
    }
   ],
   "source": [
    "def insert(word):\n",
    "    characters = 'abcdefghijklmnopqrstuvwxyz'\n",
    "    output = []\n",
    "\n",
    "    for l,r in split(word):\n",
    "        for char in characters:\n",
    "            output.append(l + char + r)\n",
    "    return output\n",
    "\n",
    "len(insert('lve'))"
   ]
  },
  {
   "cell_type": "markdown",
   "id": "f70d7411",
   "metadata": {},
   "source": [
    "## 4. <u>Finding the Prediction (Level - 1)</u>"
   ]
  },
  {
   "cell_type": "markdown",
   "id": "3614f8c4",
   "metadata": {},
   "source": [
    "### 4.1 Combining Possible Words"
   ]
  },
  {
   "cell_type": "code",
   "execution_count": 14,
   "id": "35ec1f09",
   "metadata": {},
   "outputs": [],
   "source": [
    "def edit(word):\n",
    "    return list(set(insert(word) + delete(word) + swap(word) + replace(word)))"
   ]
  },
  {
   "cell_type": "markdown",
   "id": "41346bc2",
   "metadata": {},
   "source": [
    "### 4.2 Predicting the Word"
   ]
  },
  {
   "cell_type": "code",
   "execution_count": 15,
   "id": "1b340c4b",
   "metadata": {},
   "outputs": [],
   "source": [
    "suggested_words = edit('loave')"
   ]
  },
  {
   "cell_type": "code",
   "execution_count": 27,
   "id": "c3e8558d",
   "metadata": {},
   "outputs": [
    {
     "data": {
      "text/plain": [
       "['family']"
      ]
     },
     "execution_count": 27,
     "metadata": {},
     "output_type": "execute_result"
    }
   ],
   "source": [
    "def spell_check_edit_1(word, count = 5):\n",
    "    output = []\n",
    "    suggested_words = edit(word)\n",
    "    \n",
    "    for wrd in suggested_words:\n",
    "        if wrd in word_probability.keys():\n",
    "            output.append([wrd, word_probability[wrd]])\n",
    "    return list(pd.DataFrame(output, columns = ['word','prob']).sort_values(by = 'prob', ascending = False).head(count)['word'].values)\n",
    "\n",
    "spell_check_edit_1('famili')"
   ]
  },
  {
   "cell_type": "markdown",
   "id": "e49198f7",
   "metadata": {},
   "source": [
    "## 5. Finding the Prediction (Level - 2)"
   ]
  },
  {
   "cell_type": "markdown",
   "id": "cadc0587",
   "metadata": {},
   "source": [
    "### 5.1) Combining Possible Words"
   ]
  },
  {
   "cell_type": "code",
   "execution_count": 24,
   "id": "88ef6ce5",
   "metadata": {},
   "outputs": [
    {
     "data": {
      "text/plain": [
       "['family', 'namely', 'fame', 'amelie', 'camelia']"
      ]
     },
     "execution_count": 24,
     "metadata": {},
     "output_type": "execute_result"
    }
   ],
   "source": [
    "def spell_check_edit_2(word, count = 5):\n",
    "    \n",
    "    output = []\n",
    "    suggested_words = edit(word)       # Level one Edit\n",
    "    \n",
    "    for e1 in edit(word):\n",
    "        suggested_words += edit(e1)    # Second Level Edit \n",
    "    \n",
    "    suggested_words = list(set(suggested_words))\n",
    "    \n",
    "    for wrd in suggested_words:\n",
    "        if wrd in word_probability.keys():\n",
    "            output.append([wrd, word_probability[wrd]])\n",
    "    return list(pd.DataFrame(output, columns = ['word','prob']).sort_values(by = 'prob', ascending = False).head(count)['word'].values)\n",
    "        \n",
    "spell_check_edit_2('fameli')"
   ]
  },
  {
   "cell_type": "code",
   "execution_count": null,
   "id": "cec6cb1c",
   "metadata": {},
   "outputs": [],
   "source": []
  }
 ],
 "metadata": {
  "kernelspec": {
   "display_name": "Python 3 (ipykernel)",
   "language": "python",
   "name": "python3"
  },
  "language_info": {
   "codemirror_mode": {
    "name": "ipython",
    "version": 3
   },
   "file_extension": ".py",
   "mimetype": "text/x-python",
   "name": "python",
   "nbconvert_exporter": "python",
   "pygments_lexer": "ipython3",
   "version": "3.9.7"
  }
 },
 "nbformat": 4,
 "nbformat_minor": 5
}
