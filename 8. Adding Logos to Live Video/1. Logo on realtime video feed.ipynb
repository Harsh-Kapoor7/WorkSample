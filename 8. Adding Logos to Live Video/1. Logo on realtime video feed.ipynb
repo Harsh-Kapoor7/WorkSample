{
 "cells": [
  {
   "cell_type": "code",
   "execution_count": 1,
   "id": "ff9e459e",
   "metadata": {},
   "outputs": [],
   "source": [
    "import cv2 as cv"
   ]
  },
  {
   "cell_type": "markdown",
   "id": "6d43cdba",
   "metadata": {},
   "source": [
    "## 1. Insert logo at top right"
   ]
  },
  {
   "cell_type": "code",
   "execution_count": 2,
   "id": "76589850",
   "metadata": {},
   "outputs": [],
   "source": [
    "cam = cv.VideoCapture(0)\n",
    "\n",
    "logo = cv.imread('download.png')\n",
    "logo = cv.resize(logo, (50,50))\n",
    "\n",
    "while(True):\n",
    "    _, img = cam.read()\n",
    "    img = cv.flip(img, 1)\n",
    "    \n",
    "    img[ 5:55 , 585:635 ] = logo\n",
    "    \n",
    "    cv.imshow('Original', img)\n",
    "    \n",
    "    if(cv.waitKey(10) == 27):\n",
    "        cam.release()\n",
    "        break"
   ]
  },
  {
   "cell_type": "markdown",
   "id": "6cd8fca7",
   "metadata": {},
   "source": [
    "## 2. Insert logo at top left"
   ]
  },
  {
   "cell_type": "code",
   "execution_count": 18,
   "id": "1c5ec661",
   "metadata": {},
   "outputs": [],
   "source": [
    "cam = cv.VideoCapture(0)\n",
    "logo = cv.imread('download.png')\n",
    "logo = cv.resize(logo, (90,80))\n",
    "    \n",
    "while(True):\n",
    "    _, img = cam.read()\n",
    "    img = cv.flip(img, 1)\n",
    "    \n",
    "    img[ 5:85 , 5:95] = logo\n",
    "    \n",
    "    cv.imshow('Original', img)\n",
    "    \n",
    "    if(cv.waitKey(10) == 27):\n",
    "        cam.release()\n",
    "        break"
   ]
  },
  {
   "cell_type": "markdown",
   "id": "b240d4e4",
   "metadata": {},
   "source": [
    "## 3. Insert logo at bottom right"
   ]
  },
  {
   "cell_type": "code",
   "execution_count": 26,
   "id": "45497c0c",
   "metadata": {},
   "outputs": [],
   "source": [
    "cam = cv.VideoCapture(0)\n",
    "logo = cv.imread('download.png')\n",
    "logo = cv.resize(logo, (90,80))\n",
    "\n",
    "while(True):\n",
    "    _, img = cam.read()\n",
    "    img = cv.flip(img, 1)\n",
    "    \n",
    "    img[ 395:475 , 545:635 ] = logo\n",
    "    \n",
    "    cv.imshow('Original', img)\n",
    "    \n",
    "    if(cv.waitKey(10) == 27):\n",
    "        cam.release()\n",
    "        break"
   ]
  },
  {
   "cell_type": "markdown",
   "id": "eced84ee",
   "metadata": {},
   "source": [
    "## 4. Insert logo at bottom left"
   ]
  },
  {
   "cell_type": "code",
   "execution_count": 8,
   "id": "8ca9aec3",
   "metadata": {},
   "outputs": [],
   "source": [
    "cam = cv.VideoCapture(0)\n",
    "logo = cv.imread('download.png', 1)\n",
    "logo = cv.resize(logo, (90,80))            #(x,y)\n",
    "\n",
    "while(True):\n",
    "    _, img = cam.read()\n",
    "    img = cv.flip(img, 1)\n",
    "    img[ 395:475 , 5:95 ] = logo\n",
    "    \n",
    "    cv.imshow('Original', img)\n",
    "    \n",
    "    if(cv.waitKey(10) == 27):\n",
    "        cam.release()\n",
    "        break"
   ]
  },
  {
   "cell_type": "code",
   "execution_count": null,
   "id": "e8f30ffc",
   "metadata": {},
   "outputs": [],
   "source": []
  },
  {
   "cell_type": "code",
   "execution_count": 23,
   "id": "157167c6",
   "metadata": {},
   "outputs": [],
   "source": []
  },
  {
   "cell_type": "code",
   "execution_count": null,
   "id": "e10665de",
   "metadata": {},
   "outputs": [],
   "source": []
  }
 ],
 "metadata": {
  "kernelspec": {
   "display_name": "Python 3 (ipykernel)",
   "language": "python",
   "name": "python3"
  },
  "language_info": {
   "codemirror_mode": {
    "name": "ipython",
    "version": 3
   },
   "file_extension": ".py",
   "mimetype": "text/x-python",
   "name": "python",
   "nbconvert_exporter": "python",
   "pygments_lexer": "ipython3",
   "version": "3.9.7"
  }
 },
 "nbformat": 4,
 "nbformat_minor": 5
}
