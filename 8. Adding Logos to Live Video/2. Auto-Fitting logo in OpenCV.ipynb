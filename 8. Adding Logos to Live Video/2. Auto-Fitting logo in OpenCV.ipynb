{
 "cells": [
  {
   "cell_type": "code",
   "execution_count": 1,
   "id": "2aa22713",
   "metadata": {},
   "outputs": [],
   "source": [
    "import cv2 as cv"
   ]
  },
  {
   "cell_type": "markdown",
   "id": "521f652f",
   "metadata": {},
   "source": [
    "## 1. Inserting logo at Top-Right"
   ]
  },
  {
   "cell_type": "raw",
   "id": "6b15b127",
   "metadata": {},
   "source": [
    "Height = (top_height = 1.04%  | logo_height = 10.41% | rest_height = 88.55%)\n",
    "Width  = (left_width = 91.40% | logo_width  = 7.81%  | rest_width  = 88.55%)"
   ]
  },
  {
   "cell_type": "code",
   "execution_count": 76,
   "id": "d3ba5526",
   "metadata": {},
   "outputs": [],
   "source": [
    "cam = cv.VideoCapture(0)\n",
    "logo = cv.imread('download.png', 1)\n",
    "\n",
    "while(True):\n",
    "    _, img = cam.read()\n",
    "    img = cv.flip(img, 1)\n",
    "    \n",
    "    top_height  = int((img.shape[0]*1.04)/100)\n",
    "    logo_height = int((img.shape[0]*10.41)/100)\n",
    "    left_width  = int((img.shape[1]*91.40)/100)\n",
    "    logo_width  = int((img.shape[1]*7.81)/100)\n",
    "    \n",
    "    logo = cv.resize(logo, (logo_width, logo_height))             # Setting size of logo as (49,49)\n",
    "    \n",
    "    img[ top_height : top_height + logo_height , left_width : left_width + logo_width ] = logo\n",
    "    \n",
    "    cv.imshow('Original', img)\n",
    "    \n",
    "    if(cv.waitKey(10) == 27):\n",
    "        cam.release()\n",
    "        break"
   ]
  },
  {
   "cell_type": "code",
   "execution_count": 70,
   "id": "c5cf6d68",
   "metadata": {},
   "outputs": [
    {
     "name": "stdout",
     "output_type": "stream",
     "text": [
      "top_height : 4\n",
      "logo_height: 49\n",
      "left_width : 585\n",
      "logo_width : 49\n",
      "\n",
      "Shape of Image:  (480, 640, 3)\n",
      "Shape of Logo :  (49, 49, 3)\n"
     ]
    }
   ],
   "source": [
    "top_height  = int((img.shape[0]*1.04)/100)\n",
    "logo_height = int((img.shape[0]*10.41)/100)\n",
    "left_width  = int((img.shape[1]*91.40625)/100)\n",
    "logo_width  = int((img.shape[1]*7.81)/100)\n",
    "\n",
    "print('top_height : ' + str(top_height) + '\\nlogo_height: ' + str(logo_height) + '\\nleft_width : ' + str(left_width) + '\\nlogo_width : ' + str(logo_width))\n",
    "print()\n",
    "print('Shape of Image: ', img.shape)\n",
    "print('Shape of Logo : ' , logo.shape)"
   ]
  },
  {
   "cell_type": "markdown",
   "id": "ba54db5f",
   "metadata": {},
   "source": [
    "## 2. Inserting logo at the Top_Left"
   ]
  },
  {
   "cell_type": "raw",
   "id": "7a44563b",
   "metadata": {},
   "source": [
    "Height = (top_height = 1.04% | logo_height = 10.41% | rest_height = 88.55%)\n",
    "Width  = (left_width = 0.79% | logo_width  =  7.81% | rest_width  =  91.40%)"
   ]
  },
  {
   "cell_type": "code",
   "execution_count": 78,
   "id": "a352016a",
   "metadata": {},
   "outputs": [],
   "source": [
    "cam = cv.VideoCapture(0)\n",
    "logo = cv.imread('download.png', 1)\n",
    "\n",
    "while(True):\n",
    "    _, img = cam.read()\n",
    "    img = cv.flip(img, 1)\n",
    "    \n",
    "    top_height  = int((img.shape[0]*1.04)/100)\n",
    "    logo_height = int((img.shape[0]*10.41)/100)\n",
    "    left_width  = int((img.shape[1]*0.79)/100)\n",
    "    logo_width  = int((img.shape[1]*7.81)/100)\n",
    "    \n",
    "    logo = cv.resize(logo, (logo_width, logo_height))             # Setting size of logo as (49,49)\n",
    "    \n",
    "    img[ top_height : top_height + logo_height , left_width : left_width + logo_width ] = logo\n",
    "    \n",
    "    cv.imshow('Original', img)\n",
    "    \n",
    "    if(cv.waitKey(10) == 27):\n",
    "        cam.release()\n",
    "        break"
   ]
  },
  {
   "cell_type": "markdown",
   "id": "af69414f",
   "metadata": {},
   "source": [
    "## 3. Inserting logo at the Bottom_Left"
   ]
  },
  {
   "cell_type": "raw",
   "id": "9b230dea",
   "metadata": {},
   "source": [
    "Height = (top_height = 88.55% | logo_height = 10.41% | rest_height = 1.04%)\n",
    "Width  = (left_width =  0.79% | logo_width  =  7.81% | rest_width  = 91.40%)"
   ]
  },
  {
   "cell_type": "code",
   "execution_count": 79,
   "id": "1d4ed808",
   "metadata": {},
   "outputs": [],
   "source": [
    "cam = cv.VideoCapture(0)\n",
    "logo = cv.imread('download.png', 1)\n",
    "\n",
    "while(True):\n",
    "    _, img = cam.read()\n",
    "    img = cv.flip(img, 1)\n",
    "    \n",
    "    top_height  = int((img.shape[0]*88.55)/100)\n",
    "    logo_height = int((img.shape[0]*10.41)/100)\n",
    "    left_width  = int((img.shape[1]*0.79)/100)\n",
    "    logo_width  = int((img.shape[1]*7.81)/100)\n",
    "    \n",
    "    logo = cv.resize(logo, (logo_width, logo_height))             # Setting size of logo as (49,49)\n",
    "    \n",
    "    img[ top_height : top_height + logo_height , left_width : left_width + logo_width ] = logo\n",
    "    \n",
    "    cv.imshow('Original', img)\n",
    "    \n",
    "    if(cv.waitKey(10) == 27):\n",
    "        cam.release()\n",
    "        break"
   ]
  },
  {
   "cell_type": "markdown",
   "id": "259dbd3e",
   "metadata": {},
   "source": [
    "## 4. Inserting logo at the Bottom_Right"
   ]
  },
  {
   "cell_type": "raw",
   "id": "95e4d634",
   "metadata": {},
   "source": [
    "Height = (top_height = 88.55% | logo_height = 10.41% | rest_height = 1.04%)\n",
    "Width  = (left_width = 91.40% | logo_width  =  7.81% | rest_width  = 0.79%)"
   ]
  },
  {
   "cell_type": "code",
   "execution_count": 80,
   "id": "d4fceb47",
   "metadata": {},
   "outputs": [],
   "source": [
    "cam = cv.VideoCapture(0)\n",
    "logo = cv.imread('download.png', 1)\n",
    "\n",
    "while(True):\n",
    "    _, img = cam.read()\n",
    "    img = cv.flip(img, 1)\n",
    "    \n",
    "    top_height  = int((img.shape[0]*88.55)/100)\n",
    "    logo_height = int((img.shape[0]*10.41)/100)\n",
    "    left_width  = int((img.shape[1]*91.40)/100)\n",
    "    logo_width  = int((img.shape[1]*7.81)/100)\n",
    "    \n",
    "    logo = cv.resize(logo, (logo_width, logo_height))             # Setting size of logo as (49,49)\n",
    "    \n",
    "    img[ top_height : top_height + logo_height , left_width : left_width + logo_width ] = logo\n",
    "    \n",
    "    cv.imshow('Original', img)\n",
    "    \n",
    "    if(cv.waitKey(10) == 27):\n",
    "        cam.release()\n",
    "        break"
   ]
  },
  {
   "cell_type": "markdown",
   "id": "bec87323",
   "metadata": {},
   "source": [
    "## 5. Inserting Logo at all 4 Corners"
   ]
  },
  {
   "cell_type": "code",
   "execution_count": 2,
   "id": "85b4ce04",
   "metadata": {},
   "outputs": [],
   "source": [
    "cam = cv.VideoCapture(0)\n",
    "logo = cv.imread('download.png', 1)\n",
    "\n",
    "while(True):\n",
    "    _, img = cam.read()\n",
    "    img = cv.flip(img, 1)\n",
    "    \n",
    "    # Top Right\n",
    "    top_height  = int((img.shape[0]*1.04)/100)\n",
    "    logo_height = int((img.shape[0]*10.41)/100)\n",
    "    left_width  = int((img.shape[1]*91.40)/100)\n",
    "    logo_width  = int((img.shape[1]*7.81)/100)\n",
    "    logo = cv.resize(logo, (logo_width, logo_height))             # Setting size of logo as (49,49)\n",
    "    img[ top_height : top_height + logo_height , left_width : left_width + logo_width ] = logo\n",
    "    \n",
    "    # Top Left\n",
    "    top_height  = int((img.shape[0]*1.04)/100)\n",
    "    logo_height = int((img.shape[0]*10.41)/100)\n",
    "    left_width  = int((img.shape[1]*0.79)/100)\n",
    "    logo_width  = int((img.shape[1]*7.81)/100)\n",
    "    logo = cv.resize(logo, (logo_width, logo_height))             # Setting size of logo as (49,49)\n",
    "    img[ top_height : top_height + logo_height , left_width : left_width + logo_width ] = logo\n",
    "    \n",
    "    # Bottom Left\n",
    "    top_height  = int((img.shape[0]*88.55)/100)\n",
    "    logo_height = int((img.shape[0]*10.41)/100)\n",
    "    left_width  = int((img.shape[1]*0.79)/100)\n",
    "    logo_width  = int((img.shape[1]*7.81)/100)\n",
    "    logo = cv.resize(logo, (logo_width, logo_height))             # Setting size of logo as (49,49)\n",
    "    img[ top_height : top_height + logo_height , left_width : left_width + logo_width ] = logo\n",
    "    \n",
    "    # Bottom Right\n",
    "    top_height  = int((img.shape[0]*88.55)/100)\n",
    "    logo_height = int((img.shape[0]*10.41)/100)\n",
    "    left_width  = int((img.shape[1]*91.40)/100)\n",
    "    logo_width  = int((img.shape[1]*7.81)/100)\n",
    "    logo = cv.resize(logo, (logo_width, logo_height))             # Setting size of logo as (49,49)\n",
    "    img[ top_height : top_height + logo_height , left_width : left_width + logo_width ] = logo\n",
    "    \n",
    "    cv.imshow('Original', img)\n",
    "    \n",
    "    if(cv.waitKey(10) == 27):\n",
    "        cam.release()\n",
    "        break"
   ]
  },
  {
   "cell_type": "code",
   "execution_count": null,
   "id": "2ce50322",
   "metadata": {},
   "outputs": [],
   "source": []
  }
 ],
 "metadata": {
  "kernelspec": {
   "display_name": "Python 3 (ipykernel)",
   "language": "python",
   "name": "python3"
  },
  "language_info": {
   "codemirror_mode": {
    "name": "ipython",
    "version": 3
   },
   "file_extension": ".py",
   "mimetype": "text/x-python",
   "name": "python",
   "nbconvert_exporter": "python",
   "pygments_lexer": "ipython3",
   "version": "3.9.7"
  }
 },
 "nbformat": 4,
 "nbformat_minor": 5
}
