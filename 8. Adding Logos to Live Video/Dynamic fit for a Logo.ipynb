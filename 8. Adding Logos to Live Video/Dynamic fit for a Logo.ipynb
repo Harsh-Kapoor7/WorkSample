{
 "cells": [
  {
   "cell_type": "code",
   "execution_count": 1,
   "id": "64986ba1",
   "metadata": {},
   "outputs": [],
   "source": [
    "import cv2 as cv"
   ]
  },
  {
   "cell_type": "code",
   "execution_count": 7,
   "id": "86a841de",
   "metadata": {},
   "outputs": [],
   "source": [
    "cam = cv.VideoCapture(0)\n",
    "logo = cv.imread('download.png', 1)\n",
    "\n",
    "while(True):\n",
    "    _, img = cam.read()\n",
    "    img = cv.flip(img, 1)\n",
    "    \n",
    "    img = img[ : , 80:560 ]\n",
    "    \n",
    "    top_height  = int((img.shape[0]*1.04)/100)\n",
    "    logo_height = int((img.shape[0]*10.41)/100)\n",
    "    left_width  = int((img.shape[1]*91.40)/100)\n",
    "    logo_width  = int((img.shape[1]*7.81)/100)\n",
    "    \n",
    "    logo = cv.resize(logo, (logo_width, logo_height))             # Setting size of logo as (49,49)\n",
    "    \n",
    "    img[ top_height : top_height + logo_height , left_width : left_width + logo_width ] = logo\n",
    "    \n",
    "    cv.imshow('Original', img)\n",
    "    \n",
    "    if(cv.waitKey(10) == 27):\n",
    "        cam.release()\n",
    "        break"
   ]
  },
  {
   "cell_type": "code",
   "execution_count": 4,
   "id": "4d0659b5",
   "metadata": {},
   "outputs": [
    {
     "data": {
      "text/plain": [
       "(480, 640, 3)"
      ]
     },
     "execution_count": 4,
     "metadata": {},
     "output_type": "execute_result"
    }
   ],
   "source": [
    "img.shape"
   ]
  },
  {
   "cell_type": "code",
   "execution_count": 13,
   "id": "3e903325",
   "metadata": {},
   "outputs": [
    {
     "data": {
      "text/plain": [
       "45"
      ]
     },
     "execution_count": 13,
     "metadata": {},
     "output_type": "execute_result"
    }
   ],
   "source": [
    "cv.waitKey(0)"
   ]
  },
  {
   "cell_type": "code",
   "execution_count": null,
   "id": "1868c8e2",
   "metadata": {},
   "outputs": [],
   "source": []
  }
 ],
 "metadata": {
  "kernelspec": {
   "display_name": "Python 3 (ipykernel)",
   "language": "python",
   "name": "python3"
  },
  "language_info": {
   "codemirror_mode": {
    "name": "ipython",
    "version": 3
   },
   "file_extension": ".py",
   "mimetype": "text/x-python",
   "name": "python",
   "nbconvert_exporter": "python",
   "pygments_lexer": "ipython3",
   "version": "3.9.7"
  }
 },
 "nbformat": 4,
 "nbformat_minor": 5
}
