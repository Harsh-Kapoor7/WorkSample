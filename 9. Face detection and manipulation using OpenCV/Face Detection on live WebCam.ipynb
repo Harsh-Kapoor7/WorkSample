{
 "cells": [
  {
   "cell_type": "code",
   "execution_count": 1,
   "id": "cc704735",
   "metadata": {},
   "outputs": [],
   "source": [
    "import cv2 as cv\n",
    "import numpy as np\n",
    "import os"
   ]
  },
  {
   "cell_type": "markdown",
   "id": "f71f4fad",
   "metadata": {},
   "source": [
    "## 1. Detecting Face"
   ]
  },
  {
   "cell_type": "code",
   "execution_count": 2,
   "id": "2dd29a59",
   "metadata": {},
   "outputs": [],
   "source": [
    "classifier = cv.CascadeClassifier('haarcascade_frontalface_default.xml')\n",
    "cam = cv.VideoCapture(0)\n",
    "while(True):\n",
    "    _, img = cam.read()\n",
    "    img = cv.flip(img, 1)\n",
    "    faces = classifier.detectMultiScale(img, 1.1, 5)\n",
    "    \n",
    "    for x,y,w,h in faces:\n",
    "        cv.rectangle(img, (x,y),(x+w,y+h), (0,180,0), 2)   \n",
    "\n",
    "    cv.imshow('Original', img)\n",
    "    \n",
    "    if(cv.waitKey(10) == 27):\n",
    "        cam.release()\n",
    "        break"
   ]
  },
  {
   "cell_type": "code",
   "execution_count": 11,
   "id": "d99dbab2",
   "metadata": {},
   "outputs": [
    {
     "data": {
      "text/plain": [
       "(480, 640, 3)"
      ]
     },
     "execution_count": 11,
     "metadata": {},
     "output_type": "execute_result"
    }
   ],
   "source": [
    "img.shape"
   ]
  },
  {
   "cell_type": "markdown",
   "id": "28b7d220",
   "metadata": {},
   "source": [
    "## 2. Crop the Face"
   ]
  },
  {
   "cell_type": "code",
   "execution_count": 6,
   "id": "dc377ea7",
   "metadata": {},
   "outputs": [],
   "source": [
    "classifier = cv.CascadeClassifier('haarcascade_frontalface_default.xml')\n",
    "cam = cv.VideoCapture(0)\n",
    "while(True):\n",
    "    _, img = cam.read()\n",
    "    img = cv.flip(img, 1)\n",
    "    faces = classifier.detectMultiScale(img, 1.1, 5)\n",
    "    \n",
    "    for f in faces:\n",
    "        if f[-1] == max(faces[:,-1]):\n",
    "            break\n",
    "    \n",
    "    if(len(faces) >= 1):\n",
    "        x = f[0]\n",
    "        y = f[1]\n",
    "        w = f[2]\n",
    "        h = f[3]\n",
    "    \n",
    "        cv.rectangle(img, (x,y),(x+w,y+h) , (0,180,0), 2)   \n",
    "        face = img[y:y+h, x:x+w]\n",
    "#         face = cv.resize(face, (256,256))\n",
    "        \n",
    "    cv.imshow('Original'    , img)\n",
    "    cv.imshow('Cropped_Face', face)\n",
    "    \n",
    "    if(cv.waitKey(10) == 27):\n",
    "        cam.release()\n",
    "        break"
   ]
  },
  {
   "cell_type": "markdown",
   "id": "178b2f7b",
   "metadata": {},
   "source": [
    "## 3. Blur the face"
   ]
  },
  {
   "cell_type": "code",
   "execution_count": 7,
   "id": "6e75ed2b",
   "metadata": {},
   "outputs": [],
   "source": [
    "classifier = cv.CascadeClassifier('haarcascade_frontalface_default.xml')\n",
    "cam = cv.VideoCapture(0)\n",
    "while(True):\n",
    "    _, img = cam.read()\n",
    "    img = cv.flip(img, 1)\n",
    "    faces = classifier.detectMultiScale(img, 1.1, 5)\n",
    "    \n",
    "    for f in faces:\n",
    "        if f[-1] == max(faces[:,-1]):\n",
    "            break\n",
    "    \n",
    "    if(len(faces) >= 1):\n",
    "        x = f[0]n\n",
    "        y = f[1]\n",
    "        w = f[2]\n",
    "        h = f[3]\n",
    "    \n",
    "        cv.rectangle(img, (x,y),(x+w,y+h) , (0,180,0), 2)   \n",
    "        face = img[y:y+h, x:x+w]                             # Getting the face area from feed\n",
    "        face = cv.blur(face, (10,10))                        # Applying blur on face\n",
    "        img[y:y+h, x:x+w] = face                             # Apply blure face on video feed\n",
    "        \n",
    "    cv.imshow('Original'    , img)\n",
    "#     cv.imshow('Cropped_Face', face)\n",
    "    \n",
    "    if(cv.waitKey(10) == 27):\n",
    "        cam.release()\n",
    "        break"
   ]
  },
  {
   "cell_type": "markdown",
   "id": "fee0ea20",
   "metadata": {},
   "source": [
    "## 4.1 Applying Square at the face"
   ]
  },
  {
   "cell_type": "code",
   "execution_count": 6,
   "id": "a499bba6",
   "metadata": {},
   "outputs": [],
   "source": [
    "classifier = cv.CascadeClassifier('haarcascade_frontalface_default.xml')\n",
    "cam = cv.VideoCapture(0)\n",
    "while(True):\n",
    "    _, img = cam.read()\n",
    "    img = cv.flip(img, 1)\n",
    "    faces = classifier.detectMultiScale(img, 1.1, 5)\n",
    "    \n",
    "    for f in faces:\n",
    "        if f[-1] == max(faces[:,-1]):\n",
    "            break\n",
    "    \n",
    "    x = f[0]\n",
    "    y = f[1]\n",
    "    w = f[2]\n",
    "    h = f[3]\n",
    "        \n",
    "    face = img[y:y+h, x:x+w]                             # Getting the face area from feed\n",
    "    black = np.zeros((face.shape), dtype = int)\n",
    "    img[y:y+h, x:x+w] = black                            \n",
    "        \n",
    "    cv.imshow('Original'    , img)\n",
    "    \n",
    "    if(cv.waitKey(10) == 27):\n",
    "        cam.release()\n",
    "        break"
   ]
  },
  {
   "cell_type": "markdown",
   "id": "ee89d08e",
   "metadata": {},
   "source": [
    "## 4.2 Applying Circle at the face"
   ]
  },
  {
   "cell_type": "code",
   "execution_count": 11,
   "id": "4f4cc67f",
   "metadata": {},
   "outputs": [],
   "source": [
    "classifier = cv.CascadeClassifier('haarcascade_frontalface_default.xml')\n",
    "cam = cv.VideoCapture(0)\n",
    "while(True):\n",
    "    _, img = cam.read()\n",
    "    img = cv.flip(img, 1)\n",
    "    faces = classifier.detectMultiScale(img, 1.1, 5)\n",
    "    \n",
    "    for f in faces:\n",
    "        if f[-1] == max(faces[:,-1]):\n",
    "            break\n",
    "\n",
    "    x = f[0]\n",
    "    y = f[1]\n",
    "    w = f[2]\n",
    "    h = f[3]\n",
    "    \n",
    "    circle_x = x + int(w/2)\n",
    "    circle_y = y + int(h/2)\n",
    "    \n",
    "    cv.circle(img, (circle_x, circle_y), int(w/1.5), (110,180,68), -1)\n",
    "    \n",
    "    cv.imshow('Original'    , img)\n",
    "    \n",
    "    if(cv.waitKey(10) == 27):\n",
    "        cam.release()\n",
    "        break"
   ]
  },
  {
   "cell_type": "markdown",
   "id": "c90251ec",
   "metadata": {},
   "source": [
    "## 5. Extracting face from an image"
   ]
  },
  {
   "cell_type": "code",
   "execution_count": 5,
   "id": "4027ef56",
   "metadata": {},
   "outputs": [
    {
     "name": "stdout",
     "output_type": "stream",
     "text": [
      "People/IMG5.png is exported.\n",
      "People/IMG6.png is exported.\n",
      "People/IMG7.png is exported.\n",
      "People/IMG8.png is exported.\n",
      "People/IMG9.png is exported.\n",
      "People/IMG10.png is exported.\n",
      "People/IMG11.png is exported.\n",
      "People/IMG12.png is exported.\n"
     ]
    }
   ],
   "source": [
    "classifier = cv.CascadeClassifier('haarcascade_frontalface_default.xml')\n",
    "img = cv.imread('Photo.jpg')\n",
    "faces = classifier.detectMultiScale(img, 1.1, 5)\n",
    "\n",
    "def save(frame, folder_name):\n",
    "    name_img = len(os.listdir(folder_name)) + 1\n",
    "    name_img = folder_name + '/IMG' + str(name_img) + '.png'\n",
    "    cv.imwrite(name_img, frame)\n",
    "    print(name_img, 'is exported.')\n",
    "\n",
    "for (x,y,w,h) in faces:\n",
    "    face = img[y:y+h, x:x+w]\n",
    "    cv.imshow('Faces', face)\n",
    "    \n",
    "    if cv.waitKey(0) == 13:\n",
    "        save(face, 'People')\n",
    "    elif cv.waitKey(0) == 127:\n",
    "        pass"
   ]
  },
  {
   "cell_type": "code",
   "execution_count": 11,
   "id": "d5730a2f",
   "metadata": {},
   "outputs": [
    {
     "data": {
      "text/plain": [
       "115"
      ]
     },
     "execution_count": 11,
     "metadata": {},
     "output_type": "execute_result"
    }
   ],
   "source": [
    "cv.waitKey(0)"
   ]
  },
  {
   "cell_type": "code",
   "execution_count": null,
   "id": "df8ab489",
   "metadata": {},
   "outputs": [],
   "source": []
  }
 ],
 "metadata": {
  "kernelspec": {
   "display_name": "Python 3 (ipykernel)",
   "language": "python",
   "name": "python3"
  },
  "language_info": {
   "codemirror_mode": {
    "name": "ipython",
    "version": 3
   },
   "file_extension": ".py",
   "mimetype": "text/x-python",
   "name": "python",
   "nbconvert_exporter": "python",
   "pygments_lexer": "ipython3",
   "version": "3.9.7"
  }
 },
 "nbformat": 4,
 "nbformat_minor": 5
}
